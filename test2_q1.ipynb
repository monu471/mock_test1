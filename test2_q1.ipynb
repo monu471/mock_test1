{
 "cells": [
  {
   "cell_type": "markdown",
   "id": "bc3bb7fd",
   "metadata": {},
   "source": [
    "Given a non-negative integer x, return the square root of x rounded down to the nearest integer. The returned integer should be non-negative as well. You must not use any built-in exponent function or operator. \n",
    "\n",
    " Example 1:\n",
    "Input: x = 4 Output: 2 Explanation: The square root of 4 is 2, so we return 2.\n",
    "Example 2:\n",
    "\n",
    "Input: x = 8 Output: 2 Explanation: The square root of 8 is 2.82842..., and since we round it down to the nearest integer, 2 is returned.\n",
    "Constraints:\n",
    "\n",
    "0 <= x <= 2^31 - 1"
   ]
  },
  {
   "cell_type": "code",
   "execution_count": 1,
   "id": "1350a120",
   "metadata": {},
   "outputs": [],
   "source": [
    "def mySqrt(x):\n",
    "    if x == 0:\n",
    "        return 0\n",
    "\n",
    "    left = 1\n",
    "    right = x\n",
    "\n",
    "    while left <= right:\n",
    "        mid = left + (right - left) // 2\n",
    "        if mid * mid > x:\n",
    "            right = mid - 1\n",
    "        else:\n",
    "            left = mid + 1\n",
    "\n",
    "    return right\n"
   ]
  },
  {
   "cell_type": "code",
   "execution_count": 3,
   "id": "6cc096ab",
   "metadata": {},
   "outputs": [
    {
     "data": {
      "text/plain": [
       "2"
      ]
     },
     "execution_count": 3,
     "metadata": {},
     "output_type": "execute_result"
    }
   ],
   "source": [
    "mySqrt(8)"
   ]
  },
  {
   "cell_type": "code",
   "execution_count": null,
   "id": "ab70e773",
   "metadata": {},
   "outputs": [],
   "source": []
  }
 ],
 "metadata": {
  "kernelspec": {
   "display_name": "Python 3 (ipykernel)",
   "language": "python",
   "name": "python3"
  },
  "language_info": {
   "codemirror_mode": {
    "name": "ipython",
    "version": 3
   },
   "file_extension": ".py",
   "mimetype": "text/x-python",
   "name": "python",
   "nbconvert_exporter": "python",
   "pygments_lexer": "ipython3",
   "version": "3.10.9"
  }
 },
 "nbformat": 4,
 "nbformat_minor": 5
}
